import pandas as pd
import numpy as np


da = pd.read_csv("data/DataAnalyst.csv")
da.head()


da.describe()


da.columns.tolist()


da_updated = da.drop("Unnamed: 0", axis=1)
da_updated.head()


da_updated.columns = da_updated.columns.str.lower().str.replace(' ','_')


da_updated.head()


da_updated['salary_estimate'] = da_updated['salary_estimate'].str.replace('\D+', '')


da_updated.head()


da_updated.head()


# Replace empty strings with NaN
da_updated['salary_estimate'] = da_updated['salary_estimate'].replace('', np.nan)

# Filter out rows with NaN values in 'salary_estimate'
filtered_data = da_updated.dropna(subset=['salary_estimate'])

# Calculate the average of the first two and second two elements
first_two_values = filtered_data['salary_estimate'].str[:2].astype(int)
second_two_values = filtered_data['salary_estimate'].str[2:].astype(int)

# Calculate the averages
average_first_two = first_two_values.mean()
average_second_two = second_two_values.mean




